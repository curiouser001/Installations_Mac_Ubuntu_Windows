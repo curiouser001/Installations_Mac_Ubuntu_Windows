{
  "nbformat": 4,
  "nbformat_minor": 0,
  "metadata": {
    "colab": {
      "name": "custom.ipynb",
      "provenance": [],
      "collapsed_sections": [],
      "mount_file_id": "11TCNOkdLeYM7l9-uwztfWhQb1Lef8d-V",
      "authorship_tag": "ABX9TyOxfQPMeh7S2qZV5FgHUKvl",
      "include_colab_link": true
    },
    "kernelspec": {
      "name": "python3",
      "display_name": "Python 3"
    },
    "accelerator": "GPU"
  },
  "cells": [
    {
      "cell_type": "markdown",
      "metadata": {
        "id": "view-in-github",
        "colab_type": "text"
      },
      "source": [
        "<a href=\"https://colab.research.google.com/github/curiouser001/Installations_Mac_Ubuntu_Windows/blob/master/custom.ipynb\" target=\"_parent\"><img src=\"https://colab.research.google.com/assets/colab-badge.svg\" alt=\"Open In Colab\"/></a>"
      ]
    },
    {
      "cell_type": "code",
      "metadata": {
        "id": "b3jZDBvmOn7M",
        "colab_type": "code",
        "colab": {
          "base_uri": "https://localhost:8080/",
          "height": 224
        },
        "outputId": "8c9d74da-8982-4786-8620-c034ae32d617"
      },
      "source": [
        "!apt-get install -y -qq software-properties-common python-software-properties module-init-tools\n",
        "!add-apt-repository -y ppa:alessandro-strada/ppa 2>&1 > /dev/null\n",
        "!apt-get update -qq 2>&1 > /dev/null\n",
        "!apt-get -y install -qq google-drive-ocamlfuse fuse\n",
        "from google.colab import auth\n",
        "auth.authenticate_user()\n",
        "from oauth2client.client import GoogleCredentials\n",
        "creds = GoogleCredentials.get_application_default()\n",
        "import getpass\n",
        "!google-drive-ocamlfuse -headless -id={creds.client_id} -secret={creds.client_secret} < /dev/null 2>&1 | grep URL\n",
        "vcode = getpass.getpass()\n",
        "!echo {vcode} | google-drive-ocamlfuse -headless -id={creds.client_id} -secret={creds.client_secret}"
      ],
      "execution_count": 1,
      "outputs": [
        {
          "output_type": "stream",
          "text": [
            "E: Package 'python-software-properties' has no installation candidate\n",
            "Selecting previously unselected package google-drive-ocamlfuse.\n",
            "(Reading database ... 144568 files and directories currently installed.)\n",
            "Preparing to unpack .../google-drive-ocamlfuse_0.7.19-0ubuntu1~ubuntu18.04.1_amd64.deb ...\n",
            "Unpacking google-drive-ocamlfuse (0.7.19-0ubuntu1~ubuntu18.04.1) ...\n",
            "Setting up google-drive-ocamlfuse (0.7.19-0ubuntu1~ubuntu18.04.1) ...\n",
            "Processing triggers for man-db (2.8.3-2ubuntu0.1) ...\n",
            "Please, open the following URL in a web browser: https://accounts.google.com/o/oauth2/auth?client_id=32555940559.apps.googleusercontent.com&redirect_uri=urn%3Aietf%3Awg%3Aoauth%3A2.0%3Aoob&scope=https%3A%2F%2Fwww.googleapis.com%2Fauth%2Fdrive&response_type=code&access_type=offline&approval_prompt=force\n",
            "··········\n",
            "Please, open the following URL in a web browser: https://accounts.google.com/o/oauth2/auth?client_id=32555940559.apps.googleusercontent.com&redirect_uri=urn%3Aietf%3Awg%3Aoauth%3A2.0%3Aoob&scope=https%3A%2F%2Fwww.googleapis.com%2Fauth%2Fdrive&response_type=code&access_type=offline&approval_prompt=force\n",
            "Please enter the verification code: Access token retrieved correctly.\n"
          ],
          "name": "stdout"
        }
      ]
    },
    {
      "cell_type": "code",
      "metadata": {
        "id": "i4KH6zSXPXRj",
        "colab_type": "code",
        "colab": {}
      },
      "source": [
        "!unzip '/content/drive/My Drive/finaldataset.zip' -d 'finaldataset'"
      ],
      "execution_count": 0,
      "outputs": []
    },
    {
      "cell_type": "code",
      "metadata": {
        "id": "KOsqQxIfQJPH",
        "colab_type": "code",
        "colab": {}
      },
      "source": [
        "%reload_ext autoreload\n",
        "%autoreload 2\n",
        "%matplotlib inline\n",
        "from fastai.vision import *\n",
        "from fastai.metrics import error_rate\n",
        "import torch\n",
        "import torch.nn as nn\n",
        "from torch.hub import load_state_dict_from_url\n",
        "import timeit"
      ],
      "execution_count": 0,
      "outputs": []
    },
    {
      "cell_type": "code",
      "metadata": {
        "id": "I5ddrMJFQevk",
        "colab_type": "code",
        "colab": {}
      },
      "source": [
        "class VGG(nn.Module):\n",
        "\n",
        "    def __init__(self, features, num_classes=1000, init_weights=True):\n",
        "        super(VGG, self).__init__()\n",
        "        self.features = features\n",
        "        self.avgpool = nn.AdaptiveAvgPool2d((7, 7))\n",
        "        self.classifier = nn.Sequential(\n",
        "            nn.Linear(512 * 7 * 7, 4096),\n",
        "            nn.ReLU(True),\n",
        "            nn.Dropout(),\n",
        "            nn.Linear(4096, 4096),\n",
        "            nn.ReLU(True),\n",
        "            nn.Dropout(),\n",
        "            nn.Linear(4096, num_classes),\n",
        "        )\n",
        "        if init_weights:\n",
        "            self._initialize_weights()\n",
        "\n",
        "    def forward(self, x):\n",
        "        x = self.features(x)\n",
        "        x = self.avgpool(x)\n",
        "        x = torch.flatten(x, 1)\n",
        "        x = self.classifier(x)\n",
        "        return x\n",
        "\n",
        "    def _initialize_weights(self):\n",
        "        for m in self.modules():\n",
        "            if isinstance(m, nn.Conv2d):\n",
        "                nn.init.kaiming_normal_(m.weight, mode='fan_out', nonlinearity='relu')\n",
        "                if m.bias is not None:\n",
        "                    nn.init.constant_(m.bias, 0)\n",
        "            elif isinstance(m, nn.BatchNorm2d):\n",
        "                nn.init.constant_(m.weight, 1)\n",
        "                nn.init.constant_(m.bias, 0)\n",
        "            elif isinstance(m, nn.Linear):\n",
        "                nn.init.normal_(m.weight, 0, 0.01)\n",
        "                nn.init.constant_(m.bias, 0)\n",
        "\n",
        "def make_layers(cfg, batch_norm=False,k_size=3,padding_size=1):\n",
        "    layers = []\n",
        "    in_channels = 3\n",
        "    for v in cfg:\n",
        "        if v == 'M':\n",
        "            layers += [nn.MaxPool2d(kernel_size=2, stride=2)]\n",
        "        else:\n",
        "            conv2d = nn.Conv2d(in_channels, v, kernel_size=k_size, padding=padding_size)\n",
        "            if batch_norm:\n",
        "                layers += [conv2d, nn.BatchNorm2d(v), nn.ReLU(inplace=True)]\n",
        "            else:\n",
        "                layers += [conv2d, nn.ReLU(inplace=True)]\n",
        "            in_channels = v\n",
        "    return nn.Sequential(*layers)\n",
        "\n",
        "\n",
        "def _vgg(arch, cfg, batch_norm, pretrained, progress,k_size,padding_size, **kwargs):\n",
        "    if pretrained:\n",
        "        kwargs['init_weights'] = False\n",
        "    model = VGG(make_layers(cfgs[cfg], batch_norm=batch_norm,k_size=k_size,padding_size=padding_size), **kwargs)\n",
        "    if pretrained:\n",
        "        state_dict = load_state_dict_from_url(model_urls[arch],\n",
        "                                              progress=progress)\n",
        "        model.load_state_dict(state_dict)\n",
        "    return model\n",
        "\n",
        "\n",
        "\n",
        "cfgs = {\n",
        "    'A': [64, 'M', 128, 'M', 256, 256, 'M', 512, 512, 'M', 512, 512, 'M'],\n",
        "    'B': [64, 64, 'M', 128, 128, 'M', 256, 256, 'M', 512, 512, 'M', 512, 512, 'M'],\n",
        "    'D': [64, 64, 'M', 128, 128, 'M', 256, 256, 256, 'M', 512, 512, 512, 'M', 512, 512, 512, 'M'],\n",
        "    'E': [64, 64, 'M', 128, 128, 'M', 256, 256, 256, 256, 'M', 512, 512, 512, 512, 'M', 512, 512, 512, 512, 'M'],\n",
        "}\n"
      ],
      "execution_count": 0,
      "outputs": []
    },
    {
      "cell_type": "code",
      "metadata": {
        "id": "INNZcmFkQfvh",
        "colab_type": "code",
        "colab": {}
      },
      "source": [
        "from sklearn.metrics import roc_curve, auc\n",
        "\n",
        "\n",
        "\n",
        "\n",
        "def run(data,vgg,epoch,name):\n",
        "    learn = cnn_learner(data, vgg, pretrained=False, metrics=[error_rate,accuracy])\n",
        "    start = timeit.default_timer()\n",
        "    learn.fit_one_cycle(epoch)\n",
        "    stop = timeit.default_timer()\n",
        "    print(name, stop - start)\n",
        "    learn.save(name)\n",
        "    learn.recorder.plot_losses()\n",
        "    # predict the validation set with our model\n",
        "    interp = ClassificationInterpretation.from_learner(learn)\n",
        "    interp.plot_confusion_matrix(title='Confusion matrix')\n",
        "    interp.confusion_matrix()\n",
        "    preds,y, loss = learn.get_preds(with_loss=True)\n",
        "\n",
        "    # get accuracy\n",
        "    acc = accuracy(preds, y)\n",
        "    print('The accuracy is {0} %.'.format(acc))\n",
        "        \n",
        "\n",
        "    preds,y, loss = learn.get_preds(with_loss=True)\n",
        "\n",
        "    # probs from log preds\n",
        "    probs = np.exp(preds[:,1])\n",
        "    # Compute ROC curve\n",
        "    fpr, tpr, thresholds = roc_curve(y, probs, pos_label=1)\n",
        "\n",
        "    # Compute ROC area\n",
        "    roc_auc = auc(fpr, tpr)\n",
        "    print('ROC area is {0}'.format(roc_auc))\n",
        "    plt.figure()\n",
        "    plt.plot(fpr, tpr, color='darkorange', label='ROC curve (area = %0.2f)' % roc_auc)\n",
        "    plt.plot([0, 1], [0, 1], color='navy', linestyle='--')\n",
        "    plt.xlim([-0.01, 1.0])\n",
        "    plt.ylim([0.0, 1.01])\n",
        "    plt.xlabel('False Positive Rate')\n",
        "    plt.ylabel('True Positive Rate')\n",
        "    plt.title('Receiver operating characteristic')\n",
        "    plt.legend(loc=\"lower right\")\n",
        "    return learn"
      ],
      "execution_count": 0,
      "outputs": []
    },
    {
      "cell_type": "code",
      "metadata": {
        "id": "fNB7ADy5Qh1c",
        "colab_type": "code",
        "colab": {}
      },
      "source": [
        "imagesize = 224\n",
        "batchsize = 64\n",
        "path = 'finaldataset/finaldataset/'\n",
        "\n",
        "tfms = get_transforms(do_flip=False,\n",
        "                      flip_vert=False,\n",
        "                      max_rotate=15.0,\n",
        "                      max_zoom=1,\n",
        "                      max_lighting=None,\n",
        "                      max_warp=None,\n",
        "                      p_affine=0.0,\n",
        "                      p_lighting=0.0)\n",
        "\n",
        "data = (ImageList.from_folder(path)\n",
        "        .split_by_folder(train='train', valid='val')\n",
        "        .label_from_folder()\n",
        "        .transform(tfms, size=imagesize)\n",
        "        .databunch(bs=batchsize)\n",
        "        .normalize(imagenet_stats))\n"
      ],
      "execution_count": 0,
      "outputs": []
    },
    {
      "cell_type": "code",
      "metadata": {
        "id": "M9N9P_OLRGc4",
        "colab_type": "code",
        "colab": {
          "base_uri": "https://localhost:8080/",
          "height": 1000
        },
        "outputId": "f13f639e-339b-47af-ab02-58331062de9e"
      },
      "source": [
        "def vgg19_bn3x3(pretrained=False, progress=True,k_size=3,padding_size=1, **kwargs):\n",
        "    return _vgg('vgg19_bn', 'E', True, pretrained, progress,k_size,padding_size, **kwargs)\n",
        "learn_vgg19_3x3 = run(data, vgg19_bn3x3, 30,'vgg19-3x3')"
      ],
      "execution_count": 15,
      "outputs": [
        {
          "output_type": "display_data",
          "data": {
            "text/html": [
              "<table border=\"1\" class=\"dataframe\">\n",
              "  <thead>\n",
              "    <tr style=\"text-align: left;\">\n",
              "      <th>epoch</th>\n",
              "      <th>train_loss</th>\n",
              "      <th>valid_loss</th>\n",
              "      <th>error_rate</th>\n",
              "      <th>accuracy</th>\n",
              "      <th>time</th>\n",
              "    </tr>\n",
              "  </thead>\n",
              "  <tbody>\n",
              "    <tr>\n",
              "      <td>0</td>\n",
              "      <td>1.499332</td>\n",
              "      <td>4.785338</td>\n",
              "      <td>0.785498</td>\n",
              "      <td>0.214502</td>\n",
              "      <td>01:33</td>\n",
              "    </tr>\n",
              "    <tr>\n",
              "      <td>1</td>\n",
              "      <td>1.272205</td>\n",
              "      <td>4.162159</td>\n",
              "      <td>0.737160</td>\n",
              "      <td>0.262840</td>\n",
              "      <td>01:32</td>\n",
              "    </tr>\n",
              "    <tr>\n",
              "      <td>2</td>\n",
              "      <td>1.107785</td>\n",
              "      <td>0.910313</td>\n",
              "      <td>0.323263</td>\n",
              "      <td>0.676737</td>\n",
              "      <td>01:31</td>\n",
              "    </tr>\n",
              "    <tr>\n",
              "      <td>3</td>\n",
              "      <td>0.978432</td>\n",
              "      <td>0.904419</td>\n",
              "      <td>0.326284</td>\n",
              "      <td>0.673716</td>\n",
              "      <td>01:33</td>\n",
              "    </tr>\n",
              "    <tr>\n",
              "      <td>4</td>\n",
              "      <td>0.900057</td>\n",
              "      <td>0.767403</td>\n",
              "      <td>0.271903</td>\n",
              "      <td>0.728097</td>\n",
              "      <td>01:34</td>\n",
              "    </tr>\n",
              "    <tr>\n",
              "      <td>5</td>\n",
              "      <td>0.838655</td>\n",
              "      <td>3.228285</td>\n",
              "      <td>0.564955</td>\n",
              "      <td>0.435045</td>\n",
              "      <td>01:33</td>\n",
              "    </tr>\n",
              "    <tr>\n",
              "      <td>6</td>\n",
              "      <td>0.774772</td>\n",
              "      <td>0.676524</td>\n",
              "      <td>0.241692</td>\n",
              "      <td>0.758308</td>\n",
              "      <td>01:32</td>\n",
              "    </tr>\n",
              "    <tr>\n",
              "      <td>7</td>\n",
              "      <td>0.700221</td>\n",
              "      <td>0.734185</td>\n",
              "      <td>0.287009</td>\n",
              "      <td>0.712991</td>\n",
              "      <td>01:32</td>\n",
              "    </tr>\n",
              "    <tr>\n",
              "      <td>8</td>\n",
              "      <td>0.612144</td>\n",
              "      <td>0.543860</td>\n",
              "      <td>0.184290</td>\n",
              "      <td>0.815710</td>\n",
              "      <td>01:33</td>\n",
              "    </tr>\n",
              "    <tr>\n",
              "      <td>9</td>\n",
              "      <td>0.549363</td>\n",
              "      <td>0.603565</td>\n",
              "      <td>0.175227</td>\n",
              "      <td>0.824773</td>\n",
              "      <td>01:33</td>\n",
              "    </tr>\n",
              "    <tr>\n",
              "      <td>10</td>\n",
              "      <td>0.505229</td>\n",
              "      <td>0.474066</td>\n",
              "      <td>0.160121</td>\n",
              "      <td>0.839879</td>\n",
              "      <td>01:33</td>\n",
              "    </tr>\n",
              "    <tr>\n",
              "      <td>11</td>\n",
              "      <td>0.470376</td>\n",
              "      <td>0.567972</td>\n",
              "      <td>0.229607</td>\n",
              "      <td>0.770393</td>\n",
              "      <td>01:32</td>\n",
              "    </tr>\n",
              "    <tr>\n",
              "      <td>12</td>\n",
              "      <td>0.431387</td>\n",
              "      <td>0.676974</td>\n",
              "      <td>0.181269</td>\n",
              "      <td>0.818731</td>\n",
              "      <td>01:32</td>\n",
              "    </tr>\n",
              "    <tr>\n",
              "      <td>13</td>\n",
              "      <td>0.397026</td>\n",
              "      <td>0.622939</td>\n",
              "      <td>0.160121</td>\n",
              "      <td>0.839879</td>\n",
              "      <td>01:34</td>\n",
              "    </tr>\n",
              "    <tr>\n",
              "      <td>14</td>\n",
              "      <td>0.361330</td>\n",
              "      <td>0.742687</td>\n",
              "      <td>0.280967</td>\n",
              "      <td>0.719033</td>\n",
              "      <td>01:34</td>\n",
              "    </tr>\n",
              "    <tr>\n",
              "      <td>15</td>\n",
              "      <td>0.341488</td>\n",
              "      <td>0.641736</td>\n",
              "      <td>0.193353</td>\n",
              "      <td>0.806647</td>\n",
              "      <td>01:33</td>\n",
              "    </tr>\n",
              "    <tr>\n",
              "      <td>16</td>\n",
              "      <td>0.313177</td>\n",
              "      <td>0.396961</td>\n",
              "      <td>0.135952</td>\n",
              "      <td>0.864048</td>\n",
              "      <td>01:33</td>\n",
              "    </tr>\n",
              "    <tr>\n",
              "      <td>17</td>\n",
              "      <td>0.278512</td>\n",
              "      <td>0.555021</td>\n",
              "      <td>0.175227</td>\n",
              "      <td>0.824773</td>\n",
              "      <td>01:33</td>\n",
              "    </tr>\n",
              "    <tr>\n",
              "      <td>18</td>\n",
              "      <td>0.255225</td>\n",
              "      <td>0.994826</td>\n",
              "      <td>0.202417</td>\n",
              "      <td>0.797583</td>\n",
              "      <td>01:32</td>\n",
              "    </tr>\n",
              "    <tr>\n",
              "      <td>19</td>\n",
              "      <td>0.229894</td>\n",
              "      <td>0.592733</td>\n",
              "      <td>0.220544</td>\n",
              "      <td>0.779456</td>\n",
              "      <td>01:33</td>\n",
              "    </tr>\n",
              "    <tr>\n",
              "      <td>20</td>\n",
              "      <td>0.212869</td>\n",
              "      <td>0.477420</td>\n",
              "      <td>0.157100</td>\n",
              "      <td>0.842900</td>\n",
              "      <td>01:33</td>\n",
              "    </tr>\n",
              "    <tr>\n",
              "      <td>21</td>\n",
              "      <td>0.194059</td>\n",
              "      <td>0.750973</td>\n",
              "      <td>0.175227</td>\n",
              "      <td>0.824773</td>\n",
              "      <td>01:33</td>\n",
              "    </tr>\n",
              "    <tr>\n",
              "      <td>22</td>\n",
              "      <td>0.176416</td>\n",
              "      <td>0.504514</td>\n",
              "      <td>0.163142</td>\n",
              "      <td>0.836858</td>\n",
              "      <td>01:32</td>\n",
              "    </tr>\n",
              "    <tr>\n",
              "      <td>23</td>\n",
              "      <td>0.156803</td>\n",
              "      <td>0.488739</td>\n",
              "      <td>0.148036</td>\n",
              "      <td>0.851964</td>\n",
              "      <td>01:33</td>\n",
              "    </tr>\n",
              "    <tr>\n",
              "      <td>24</td>\n",
              "      <td>0.135723</td>\n",
              "      <td>0.461445</td>\n",
              "      <td>0.157100</td>\n",
              "      <td>0.842900</td>\n",
              "      <td>01:32</td>\n",
              "    </tr>\n",
              "    <tr>\n",
              "      <td>25</td>\n",
              "      <td>0.113803</td>\n",
              "      <td>0.414655</td>\n",
              "      <td>0.135952</td>\n",
              "      <td>0.864048</td>\n",
              "      <td>01:33</td>\n",
              "    </tr>\n",
              "    <tr>\n",
              "      <td>26</td>\n",
              "      <td>0.096868</td>\n",
              "      <td>0.410664</td>\n",
              "      <td>0.129909</td>\n",
              "      <td>0.870091</td>\n",
              "      <td>01:33</td>\n",
              "    </tr>\n",
              "    <tr>\n",
              "      <td>27</td>\n",
              "      <td>0.081868</td>\n",
              "      <td>0.427940</td>\n",
              "      <td>0.132931</td>\n",
              "      <td>0.867069</td>\n",
              "      <td>01:33</td>\n",
              "    </tr>\n",
              "    <tr>\n",
              "      <td>28</td>\n",
              "      <td>0.072086</td>\n",
              "      <td>0.414570</td>\n",
              "      <td>0.129909</td>\n",
              "      <td>0.870091</td>\n",
              "      <td>01:34</td>\n",
              "    </tr>\n",
              "    <tr>\n",
              "      <td>29</td>\n",
              "      <td>0.062041</td>\n",
              "      <td>0.414724</td>\n",
              "      <td>0.126888</td>\n",
              "      <td>0.873112</td>\n",
              "      <td>01:33</td>\n",
              "    </tr>\n",
              "  </tbody>\n",
              "</table>"
            ],
            "text/plain": [
              "<IPython.core.display.HTML object>"
            ]
          },
          "metadata": {
            "tags": []
          }
        },
        {
          "output_type": "stream",
          "text": [
            "vgg19-3x3 2798.9462680439974\n"
          ],
          "name": "stdout"
        },
        {
          "output_type": "display_data",
          "data": {
            "text/html": [
              ""
            ],
            "text/plain": [
              "<IPython.core.display.HTML object>"
            ]
          },
          "metadata": {
            "tags": []
          }
        },
        {
          "output_type": "display_data",
          "data": {
            "text/html": [
              ""
            ],
            "text/plain": [
              "<IPython.core.display.HTML object>"
            ]
          },
          "metadata": {
            "tags": []
          }
        },
        {
          "output_type": "stream",
          "text": [
            "The accuracy is 0.8731117844581604 %.\n"
          ],
          "name": "stdout"
        },
        {
          "output_type": "display_data",
          "data": {
            "text/html": [
              ""
            ],
            "text/plain": [
              "<IPython.core.display.HTML object>"
            ]
          },
          "metadata": {
            "tags": []
          }
        },
        {
          "output_type": "stream",
          "text": [
            "ROC area is 0.9959324791539556\n"
          ],
          "name": "stdout"
        },
        {
          "output_type": "display_data",
          "data": {
            "image/png": "[encoded data removed]",
            "text/plain": [
              "<Figure size 432x288 with 1 Axes>"
            ]
          },
          "metadata": {
            "tags": [],
            "needs_background": "light"
          }
        },
        {
          "output_type": "display_data",
          "data": {
            "image/png": "[encoded data removed]",
            "text/plain": [
              "<Figure size 432x288 with 1 Axes>"
            ]
          },
          "metadata": {
            "tags": [],
            "needs_background": "light"
          }
        },
        {
          "output_type": "display_data",
          "data": {
            "image/png": "[encoded data removed]",
            "text/plain": [
              "<Figure size 432x288 with 1 Axes>"
            ]
          },
          "metadata": {
            "tags": [],
            "needs_background": "light"
          }
        }
      ]
    },
    {
      "cell_type": "code",
      "metadata": {
        "id": "nJghDXN-Rsg1",
        "colab_type": "code",
        "colab": {}
      },
      "source": [
        "def vgg16_bn5x5(pretrained=False, progress=True,k_size=5,padding_size=2, **kwargs):\n",
        "    return _vgg('vgg16_bn', 'A', True, pretrained, progress,k_size,padding_size, **kwargs)\n",
        "learn_vgg16_5x5 = run(data, vgg16_bn5x5, 100,'vgg16-5x5')"
      ],
      "execution_count": 0,
      "outputs": []
    }
  ]
}